{
 "cells": [
  {
   "cell_type": "code",
   "execution_count": 1,
   "metadata": {},
   "outputs": [
    {
     "name": "stdout",
     "output_type": "stream",
     "text": [
      "   Nama Pasien  Umur Gender Diagnosa Sakit\n",
      "0         Anto    24      L          Tidak\n",
      "1         Budi    35      L             Ya\n",
      "2          Adi    55      L             Ya\n",
      "3       Delima    32      P             Ya\n",
      "4         Dodi    21      L          Tidak\n",
      "5      Tukiyem    19      P          Tidak\n",
      "6         Rama    23      L          Tidak\n",
      "7        Santi    35      P          Tidak\n",
      "8         Mery    44      P             Ya\n",
      "9        Yanti    27      P          Tidak\n",
      "10       Parto    43      L             Ya\n",
      "11         Dea    24      P          Tidak\n",
      "\n",
      " read text data with tab delimiter\n",
      "Nama Pasien;Umur;Gender;Diagnosa Sakit\n",
      "Anto;24;L;Tidak\n",
      "Budi;35;L;Ya\n",
      "Adi;55;L;Ya\n",
      "Delima;32;P;Ya\n",
      "Dodi;21;L;Tidak\n",
      "Tukiyem;19;P;Tidak\n",
      "Rama;23;L;Tidak\n",
      "Santi;35;P;Tidak\n",
      "Mery;44;P;Ya\n",
      "Yanti;27;P;Tidak\n",
      "Parto;43;L;Ya\n",
      "Dea;24;P;Tidak\n",
      "         time     40    50     60    70    80    90   100   110   120  ...  \\\n",
      "0     YAL001C -0.070 -0.23 -0.100  0.03 -0.04 -0.12 -0.28 -0.44 -0.09  ...   \n",
      "1     YAL014C  0.215  0.09  0.025 -0.04 -0.04 -0.02 -0.51 -0.08  0.00  ...   \n",
      "2     YAL016W  0.150  0.15  0.220  0.29 -0.10  0.15 -0.73  0.19 -0.15  ...   \n",
      "3     YAL020C -0.350 -0.28 -0.215 -0.15  0.16 -0.12  0.26  0.00  0.13  ...   \n",
      "4     YAL022C -0.415 -0.59 -0.580 -0.57 -0.09 -0.34  0.49  0.32  1.15  ...   \n",
      "...       ...    ...   ...    ...   ...   ...   ...   ...   ...   ...  ...   \n",
      "4376  YPR198W -0.060  0.08  0.210  0.34  0.65 -0.26  0.14 -0.33  0.53  ...   \n",
      "4377  YPR199C  0.155  0.19  0.235  0.28 -0.26  0.21 -0.40  0.34 -0.80  ...   \n",
      "4378  YPR201W -0.255 -0.36 -0.300 -0.24  1.30 -0.07  0.29 -0.20  0.25  ...   \n",
      "4379  YPR203W  0.570  0.12 -0.070 -0.26 -0.44 -0.21 -1.08  0.39 -0.17  ...   \n",
      "4380  YPR204W  0.405  0.17 -0.045 -0.26 -0.60 -0.09 -0.85  0.17 -0.05  ...   \n",
      "\n",
      "       170   180   190   200   210   220   230   240   250    260  \n",
      "0     0.59  0.34 -0.28 -0.09 -0.44  0.31  0.03  0.57  0.00  0.010  \n",
      "1    -0.30 -0.38  0.07 -0.04  0.13 -0.06 -0.26 -0.10  0.27  0.235  \n",
      "2     0.12 -0.17  0.11 -0.15  0.03 -0.26 -0.34 -0.34  0.25  0.190  \n",
      "3     0.07  0.61 -0.20  0.49 -0.43  0.80 -0.47  1.01 -0.36 -0.405  \n",
      "4    -0.48 -0.40 -0.59  0.54 -0.09  1.03  0.08  0.57 -0.26 -0.310  \n",
      "...    ...   ...   ...   ...   ...   ...   ...   ...   ...    ...  \n",
      "4376  0.14 -0.64 -0.26  0.53 -0.17  0.59 -0.96  0.40 -0.23 -0.325  \n",
      "4377  0.34  0.15  0.30 -0.06  0.13 -0.44 -1.03  0.14  0.30  0.250  \n",
      "4378 -0.81  0.89  0.07  1.04 -0.32  0.80 -0.13  0.84 -0.39 -0.415  \n",
      "4379  0.12 -0.96 -0.31 -0.81 -0.34 -1.21 -1.36 -0.12  0.69  0.555  \n",
      "4380  0.17 -1.90 -0.21 -0.45 -0.31 -0.39 -0.22 -0.08  0.65  0.520  \n",
      "\n",
      "[4381 rows x 24 columns]\n"
     ]
    }
   ],
   "source": [
    "# Membaca data dari file dengan format CSV\n",
    "import pandas as pd\n",
    "data = pd.read_csv(\"Data.csv\", sep=\";\")\n",
    "print(data)\n",
    "\n",
    "# Membaca data dari file dengan format text (delimeter)\n",
    "print(\"\\n read text data with tab delimiter\")\n",
    "with open ('Data.txt') as data:\n",
    "    print(data.read())  \n",
    "    \n",
    "\n",
    "# Membaca data dari URL\n",
    "import pandas as pd\n",
    "f = pd.read_csv('http://www.exploredata.net/ftp/Spellman.csv')\n",
    "print(f)\n"
   ]
  }
 ],
 "metadata": {
  "kernelspec": {
   "display_name": "Python 3",
   "language": "python",
   "name": "python3"
  },
  "language_info": {
   "codemirror_mode": {
    "name": "ipython",
    "version": 3
   },
   "file_extension": ".py",
   "mimetype": "text/x-python",
   "name": "python",
   "nbconvert_exporter": "python",
   "pygments_lexer": "ipython3",
   "version": "3.11.4"
  },
  "orig_nbformat": 4
 },
 "nbformat": 4,
 "nbformat_minor": 2
}
